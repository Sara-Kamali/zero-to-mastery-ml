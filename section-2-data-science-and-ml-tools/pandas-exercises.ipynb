{
  "cells": [
    {
      "cell_type": "markdown",
      "metadata": {
        "id": "9AsPmzJqFHYs"
      },
      "source": [
        "# Pandas Practice\n",
        "\n",
        "This notebook is dedicated to practicing different tasks with pandas. The solutions are available in a solutions notebook, however, you should always try to figure them out yourself first.\n",
        "\n",
        "It should be noted there may be more than one different way to answer a question or complete an exercise.\n",
        "\n",
        "Exercises are based off (and directly taken from) the quick introduction to pandas notebook.\n",
        "\n",
        "Different tasks will be detailed by comments or text.\n",
        "\n",
        "For further reference and resources, it's advised to check out the [pandas documentation](https://pandas.pydata.org/pandas-docs/stable/)."
      ]
    },
    {
      "cell_type": "code",
      "execution_count": null,
      "metadata": {
        "id": "-Pxu6hsRFHYu"
      },
      "outputs": [],
      "source": [
        "# Import pandas\n"
      ]
    },
    {
      "cell_type": "code",
      "execution_count": null,
      "metadata": {
        "id": "z5cy3ZaoFHYv"
      },
      "outputs": [],
      "source": [
        "# Create a series of three different colours\n"
      ]
    },
    {
      "cell_type": "code",
      "execution_count": null,
      "metadata": {
        "id": "2ij1U_4SFHYv"
      },
      "outputs": [],
      "source": [
        "# View the series of different colours\n"
      ]
    },
    {
      "cell_type": "code",
      "execution_count": null,
      "metadata": {
        "id": "ViDBzlpzFHYv"
      },
      "outputs": [],
      "source": [
        "# Create a series of three different car types and view it\n"
      ]
    },
    {
      "cell_type": "code",
      "execution_count": null,
      "metadata": {
        "id": "riTUlU2jFHYw"
      },
      "outputs": [],
      "source": [
        "# Combine the Series of cars and colours into a DataFrame\n"
      ]
    },
    {
      "cell_type": "code",
      "execution_count": null,
      "metadata": {
        "id": "IXgEZ8MHFHYw"
      },
      "outputs": [],
      "source": [
        "# Import \"../data/car-sales.csv\" and turn it into a DataFrame\n"
      ]
    },
    {
      "cell_type": "markdown",
      "metadata": {
        "id": "lnMi8uVkFHYw"
      },
      "source": [
        "**Note:** Since you've imported `../data/car-sales.csv` as a DataFrame, we'll now refer to this DataFrame as 'the car sales DataFrame'."
      ]
    },
    {
      "cell_type": "code",
      "execution_count": null,
      "metadata": {
        "id": "jul9gbBiFHYw"
      },
      "outputs": [],
      "source": [
        "# Export the DataFrame you created to a .csv file\n"
      ]
    },
    {
      "cell_type": "code",
      "execution_count": null,
      "metadata": {
        "id": "KImb4-Y4FHYw"
      },
      "outputs": [],
      "source": [
        "# Find the different datatypes of the car data DataFrame\n"
      ]
    },
    {
      "cell_type": "code",
      "execution_count": null,
      "metadata": {
        "id": "UKTUJeSYFHYw"
      },
      "outputs": [],
      "source": [
        "# Describe your current car sales DataFrame using describe()\n"
      ]
    },
    {
      "cell_type": "code",
      "execution_count": null,
      "metadata": {
        "id": "y8z0A6waFHYx"
      },
      "outputs": [],
      "source": [
        "# Get information about your DataFrame using info()\n"
      ]
    },
    {
      "cell_type": "markdown",
      "metadata": {
        "id": "S-GeJZPCFHYx"
      },
      "source": [
        "What does it show you?"
      ]
    },
    {
      "cell_type": "code",
      "execution_count": null,
      "metadata": {
        "id": "LtHjGuoBFHYx"
      },
      "outputs": [],
      "source": [
        "# Create a Series of different numbers and find the mean of them\n"
      ]
    },
    {
      "cell_type": "code",
      "execution_count": null,
      "metadata": {
        "id": "1ECL0rkkFHYx"
      },
      "outputs": [],
      "source": [
        "# Create a Series of different numbers and find the sum of them\n"
      ]
    },
    {
      "cell_type": "code",
      "execution_count": null,
      "metadata": {
        "id": "t84N7WU_FHYx"
      },
      "outputs": [],
      "source": [
        "# List out all the column names of the car sales DataFrame\n"
      ]
    },
    {
      "cell_type": "code",
      "execution_count": null,
      "metadata": {
        "id": "ShlmU9d2FHYx"
      },
      "outputs": [],
      "source": [
        "# Find the length of the car sales DataFrame\n"
      ]
    },
    {
      "cell_type": "code",
      "execution_count": null,
      "metadata": {
        "id": "BHBgnTXJFHYx"
      },
      "outputs": [],
      "source": [
        "# Show the first 5 rows of the car sales DataFrame\n"
      ]
    },
    {
      "cell_type": "code",
      "execution_count": null,
      "metadata": {
        "id": "4jEhu5G7FHYx"
      },
      "outputs": [],
      "source": [
        "# Show the first 7 rows of the car sales DataFrame\n"
      ]
    },
    {
      "cell_type": "code",
      "execution_count": null,
      "metadata": {
        "id": "XcddbXztFHYx"
      },
      "outputs": [],
      "source": [
        "# Show the bottom 5 rows of the car sales DataFrame\n"
      ]
    },
    {
      "cell_type": "code",
      "execution_count": null,
      "metadata": {
        "id": "eDHYNsgBFHYx"
      },
      "outputs": [],
      "source": [
        "# Use .loc to select the row at index 3 of the car sales DataFrame\n"
      ]
    },
    {
      "cell_type": "code",
      "execution_count": null,
      "metadata": {
        "id": "JQYJsev1FHYx"
      },
      "outputs": [],
      "source": [
        "# Use .iloc to select the row at position 3 of the car sales DataFrame\n"
      ]
    },
    {
      "cell_type": "markdown",
      "metadata": {
        "id": "HjEaufnwFHYx"
      },
      "source": [
        "Notice how they're the same? Why do you think this is?\n",
        "\n",
        "Check the pandas documentation for [.loc](https://pandas.pydata.org/pandas-docs/stable/reference/api/pandas.DataFrame.loc.html) and [.iloc](https://pandas.pydata.org/pandas-docs/stable/reference/api/pandas.DataFrame.iloc.html). Think about a different situation each could be used for and try them out."
      ]
    },
    {
      "cell_type": "code",
      "execution_count": null,
      "metadata": {
        "id": "c2B0EKYSFHYx"
      },
      "outputs": [],
      "source": [
        "# Select the \"Odometer (KM)\" column from the car sales DataFrame\n"
      ]
    },
    {
      "cell_type": "code",
      "execution_count": null,
      "metadata": {
        "id": "sJm1cNtPFHYx"
      },
      "outputs": [],
      "source": [
        "# Find the mean of the \"Odometer (KM)\" column in the car sales DataFrame\n"
      ]
    },
    {
      "cell_type": "code",
      "execution_count": null,
      "metadata": {
        "id": "LlThr09YFHYx"
      },
      "outputs": [],
      "source": [
        "# Select the rows with over 100,000 kilometers on the Odometer\n"
      ]
    },
    {
      "cell_type": "code",
      "execution_count": null,
      "metadata": {
        "id": "t9FercbfFHYx"
      },
      "outputs": [],
      "source": [
        "# Create a crosstab of the Make and Doors columns\n"
      ]
    },
    {
      "cell_type": "code",
      "execution_count": null,
      "metadata": {
        "id": "3y_7eBFwFHYx"
      },
      "outputs": [],
      "source": [
        "# Group columns of the car sales DataFrame by the Make column and find the average\n"
      ]
    },
    {
      "cell_type": "code",
      "execution_count": null,
      "metadata": {
        "id": "4QPXm93vFHYx"
      },
      "outputs": [],
      "source": [
        "# Import Matplotlib and create a plot of the Odometer column\n",
        "# Don't forget to use %matplotlib inline\n"
      ]
    },
    {
      "cell_type": "code",
      "execution_count": null,
      "metadata": {
        "id": "HHoTOILVFHYx"
      },
      "outputs": [],
      "source": [
        "# Create a histogram of the Odometer column using hist()\n"
      ]
    },
    {
      "cell_type": "code",
      "execution_count": null,
      "metadata": {
        "id": "9ohLGenHFHYx"
      },
      "outputs": [],
      "source": [
        "# Try to plot the Price column using plot()\n"
      ]
    },
    {
      "cell_type": "markdown",
      "metadata": {
        "id": "iw71ae5kFHYx"
      },
      "source": [
        "Why didn't it work? Can you think of a solution?\n",
        "\n",
        "You might want to search for \"how to convert a pandas string column to numbers\".\n",
        "\n",
        "And if you're still stuck, check out this [Stack Overflow question and answer on turning a price column into integers](https://stackoverflow.com/questions/44469313/price-column-object-to-int-in-pandas).\n",
        "\n",
        "See how you can provide the example code there to the problem here."
      ]
    },
    {
      "cell_type": "code",
      "execution_count": null,
      "metadata": {
        "id": "a6UGFYIMFHYy"
      },
      "outputs": [],
      "source": [
        "# Remove the punctuation from price column\n"
      ]
    },
    {
      "cell_type": "code",
      "execution_count": null,
      "metadata": {
        "id": "xhwRMUH0FHYy"
      },
      "outputs": [],
      "source": [
        "# Check the changes to the price column\n"
      ]
    },
    {
      "cell_type": "code",
      "execution_count": null,
      "metadata": {
        "id": "ejbWN9pCFHYy"
      },
      "outputs": [],
      "source": [
        "# Remove the two extra zeros at the end of the price column\n"
      ]
    },
    {
      "cell_type": "code",
      "execution_count": null,
      "metadata": {
        "id": "oTymz6dlFHYy"
      },
      "outputs": [],
      "source": [
        "# Check the changes to the Price column\n"
      ]
    },
    {
      "cell_type": "code",
      "execution_count": null,
      "metadata": {
        "id": "zN3SOdflFHYy"
      },
      "outputs": [],
      "source": [
        "# Change the datatype of the Price column to integers\n"
      ]
    },
    {
      "cell_type": "code",
      "execution_count": null,
      "metadata": {
        "id": "KHQ4rXC7FHYy"
      },
      "outputs": [],
      "source": [
        "# Lower the strings of the Make column\n"
      ]
    },
    {
      "cell_type": "markdown",
      "metadata": {
        "id": "fUxlA8hkFHYy"
      },
      "source": [
        "If you check the car sales DataFrame, you'll notice the Make column hasn't been lowered.\n",
        "\n",
        "How could you make these changes permanent?\n",
        "\n",
        "Try it out."
      ]
    },
    {
      "cell_type": "code",
      "execution_count": null,
      "metadata": {
        "id": "Pa1zAVLrFHY1"
      },
      "outputs": [],
      "source": [
        "# Make lowering the case of the Make column permanent\n"
      ]
    },
    {
      "cell_type": "code",
      "execution_count": null,
      "metadata": {
        "id": "awrqnLInFHY1"
      },
      "outputs": [],
      "source": [
        "# Check the car sales DataFrame\n"
      ]
    },
    {
      "cell_type": "markdown",
      "metadata": {
        "id": "D8tybDR3FHY1"
      },
      "source": [
        "Notice how the Make column stays lowered after reassigning.\n",
        "\n",
        "Now let's deal with missing data."
      ]
    },
    {
      "cell_type": "code",
      "execution_count": null,
      "metadata": {
        "id": "4636R336FHY1"
      },
      "outputs": [],
      "source": [
        "# Import the car sales DataFrame with missing data (\"../data/car-sales-missing-data.csv\")\n",
        "\n",
        "\n",
        "# Check out the new DataFrame\n"
      ]
    },
    {
      "cell_type": "markdown",
      "metadata": {
        "id": "5W8YloAyFHY1"
      },
      "source": [
        "Notice the missing values are represented as `NaN` in pandas DataFrames.\n",
        "\n",
        "Let's try fill them."
      ]
    },
    {
      "cell_type": "code",
      "execution_count": null,
      "metadata": {
        "id": "bDn9k0cdFHY1"
      },
      "outputs": [],
      "source": [
        "# Fill the Odometer column missing values with the mean of the column inplace\n"
      ]
    },
    {
      "cell_type": "code",
      "execution_count": null,
      "metadata": {
        "id": "jdTt4IZHFHY1"
      },
      "outputs": [],
      "source": [
        "# View the car sales missing DataFrame and verify the changes\n"
      ]
    },
    {
      "cell_type": "code",
      "execution_count": null,
      "metadata": {
        "id": "T8D1xTmgFHY1"
      },
      "outputs": [],
      "source": [
        "# Remove the rest of the missing data inplace\n"
      ]
    },
    {
      "cell_type": "code",
      "execution_count": null,
      "metadata": {
        "id": "KV42M7UYFHY1"
      },
      "outputs": [],
      "source": [
        "# Verify the missing values are removed by viewing the DataFrame\n"
      ]
    },
    {
      "cell_type": "markdown",
      "metadata": {
        "id": "ZrKJik07FHY1"
      },
      "source": [
        "We'll now start to add columns to our DataFrame."
      ]
    },
    {
      "cell_type": "code",
      "execution_count": null,
      "metadata": {
        "id": "BBZq2Tx_FHY1"
      },
      "outputs": [],
      "source": [
        "# Create a \"Seats\" column where every row has a value of 5\n"
      ]
    },
    {
      "cell_type": "code",
      "execution_count": null,
      "metadata": {
        "id": "GJTaclfEFHY1"
      },
      "outputs": [],
      "source": [
        "# Create a column called \"Engine Size\" with random values between 1.3 and 4.5\n",
        "# Remember: If you're doing it from a Python list, the list has to be the same length\n",
        "# as the DataFrame\n"
      ]
    },
    {
      "cell_type": "code",
      "execution_count": null,
      "metadata": {
        "id": "ZZLlreqiFHY1"
      },
      "outputs": [],
      "source": [
        "# Create a column which represents the price of a car per kilometer\n",
        "# Then view the DataFrame\n"
      ]
    },
    {
      "cell_type": "code",
      "execution_count": null,
      "metadata": {
        "id": "A8UIyA2CFHY1"
      },
      "outputs": [],
      "source": [
        "# Remove the last column you added using .drop()\n"
      ]
    },
    {
      "cell_type": "code",
      "execution_count": null,
      "metadata": {
        "id": "0TrG01hXFHY1"
      },
      "outputs": [],
      "source": [
        "# Shuffle the DataFrame using sample() with the frac parameter set to 1\n",
        "# Save the the shuffled DataFrame to a new variable\n"
      ]
    },
    {
      "cell_type": "markdown",
      "metadata": {
        "id": "aiy4Y4X1FHY1"
      },
      "source": [
        "Notice how the index numbers get moved around. The [`sample()`](https://pandas.pydata.org/pandas-docs/stable/reference/api/pandas.DataFrame.sample.html) function is a great way to get random samples from your DataFrame. It's also another great way to shuffle the rows by setting `frac=1`."
      ]
    },
    {
      "cell_type": "code",
      "execution_count": null,
      "metadata": {
        "id": "1ePC9M64FHY2"
      },
      "outputs": [],
      "source": [
        "# Reset the indexes of the shuffled DataFrame\n"
      ]
    },
    {
      "cell_type": "markdown",
      "metadata": {
        "id": "y8XsRMDoFHY2"
      },
      "source": [
        "Notice the index numbers have been changed to have order (start from 0)."
      ]
    },
    {
      "cell_type": "code",
      "execution_count": null,
      "metadata": {
        "id": "B0I7zHSSFHY2"
      },
      "outputs": [],
      "source": [
        "# Change the Odometer values from kilometers to miles using a Lambda function\n",
        "# Then view the DataFrame\n"
      ]
    },
    {
      "cell_type": "code",
      "execution_count": null,
      "metadata": {
        "id": "PLlLbmUCFHY2"
      },
      "outputs": [],
      "source": [
        "# Change the title of the Odometer (KM) to represent miles instead of kilometers\n"
      ]
    },
    {
      "cell_type": "markdown",
      "metadata": {
        "id": "fkLAFkb0FHY2"
      },
      "source": [
        "## Extensions\n",
        "\n",
        "For more exercises, check out the pandas documentation, particularly the [10-minutes to pandas section](https://pandas.pydata.org/pandas-docs/stable/user_guide/10min.html).\n",
        "\n",
        "One great exercise would be to retype out the entire section into a Jupyter Notebook of your own.\n",
        "\n",
        "Get hands-on with the code and see what it does.\n",
        "\n",
        "The next place you should check out are the [top questions and answers on Stack Overflow for pandas](https://stackoverflow.com/questions/tagged/pandas?sort=MostVotes&edited=true). Often, these contain some of the most useful and common pandas functions. Be sure to play around with the different filters!\n",
        "\n",
        "Finally, always remember, the best way to learn something new to is try it. Make mistakes. Ask questions, get things wrong, take note of the things you do most often. And don't worry if you keep making the same mistake, pandas has many ways to do the same thing and is a big library. So it'll likely take a while before you get the hang of it."
      ]
    }
  ],
  "metadata": {
    "kernelspec": {
      "display_name": "Python 3",
      "language": "python",
      "name": "python3"
    },
    "language_info": {
      "codemirror_mode": {
        "name": "ipython",
        "version": 3
      },
      "file_extension": ".py",
      "mimetype": "text/x-python",
      "name": "python",
      "nbconvert_exporter": "python",
      "pygments_lexer": "ipython3",
      "version": "3.8.3"
    },
    "colab": {
      "provenance": []
    }
  },
  "nbformat": 4,
  "nbformat_minor": 0
}